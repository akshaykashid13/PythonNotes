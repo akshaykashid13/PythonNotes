{
 "cells": [
  {
   "cell_type": "code",
   "execution_count": 2,
   "metadata": {},
   "outputs": [
    {
     "name": "stdout",
     "output_type": "stream",
     "text": [
      "Python Oops\n"
     ]
    }
   ],
   "source": [
    "print('Python Oops')"
   ]
  },
  {
   "cell_type": "code",
   "execution_count": 3,
   "metadata": {},
   "outputs": [],
   "source": [
    "# Class Syntax\n",
    "#class Class_Name() \n",
    "# statement_1\n",
    "\n",
    "# statement_n"
   ]
  },
  {
   "cell_type": "code",
   "execution_count": 4,
   "metadata": {},
   "outputs": [
    {
     "name": "stdout",
     "output_type": "stream",
     "text": [
      "700000\n"
     ]
    }
   ],
   "source": [
    "class Car():\n",
    "    pass\n",
    "honda = Car() # Object Decleration\n",
    "tata = Car()\n",
    "\n",
    "honda.model_name = 'City'\n",
    "honda.year = 2017\n",
    "honda.price = 700000\n",
    "\n",
    "tata.model_name = 'Nexon'\n",
    "tata.year = 2019\n",
    "tata.price = 900000\n",
    "\n",
    "print(honda.price)"
   ]
  },
  {
   "cell_type": "code",
   "execution_count": 10,
   "metadata": {},
   "outputs": [
    {
     "name": "stdout",
     "output_type": "stream",
     "text": [
      "450000\n",
      "517499\n",
      "{'model_name': 'Brio', 'year': 2017, 'price': 517499, 'cc': 1200}\n"
     ]
    }
   ],
   "source": [
    "# Constructor \n",
    "class Car():\n",
    "    def __init__(self, model_name, year, price):\n",
    "        self.model_name = model_name\n",
    "        self.year = year\n",
    "        self.price = price\n",
    "        \n",
    "    def price_inc(self):\n",
    "        self.price = int(self.price * 1.15)\n",
    "        \n",
    "honda = Car('Brio', 2017, 450000) # Object Decleration\n",
    "tata = Car('Indica', 2010, 230000)\n",
    "\n",
    "honda.cc = 1200\n",
    "\n",
    "print(honda.price)\n",
    "honda.price_inc()\n",
    "print(honda.price)\n",
    "\n",
    "print(honda.__dict__)"
   ]
  },
  {
   "cell_type": "code",
   "execution_count": 12,
   "metadata": {},
   "outputs": [
    {
     "name": "stdout",
     "output_type": "stream",
     "text": [
      "Help on SuperCar in module __main__ object:\n",
      "\n",
      "class SuperCar(Car)\n",
      " |  SuperCar(model_name, year, price)\n",
      " |  \n",
      " |  Method resolution order:\n",
      " |      SuperCar\n",
      " |      Car\n",
      " |      builtins.object\n",
      " |  \n",
      " |  Methods inherited from Car:\n",
      " |  \n",
      " |  __init__(self, model_name, year, price)\n",
      " |      Initialize self.  See help(type(self)) for accurate signature.\n",
      " |  \n",
      " |  price_inc(self)\n",
      " |  \n",
      " |  ----------------------------------------------------------------------\n",
      " |  Data descriptors inherited from Car:\n",
      " |  \n",
      " |  __dict__\n",
      " |      dictionary for instance variables (if defined)\n",
      " |  \n",
      " |  __weakref__\n",
      " |      list of weak references to the object (if defined)\n",
      "\n",
      "None\n"
     ]
    }
   ],
   "source": [
    "# Inheritance\n",
    "\n",
    "class Car():\n",
    "    def __init__(self, model_name, year, price):\n",
    "        self.model_name = model_name\n",
    "        self.year = year\n",
    "        self.price = price\n",
    "        \n",
    "    def price_inc(self):\n",
    "        self.price = int(self.price * 1.15)\n",
    "        \n",
    "class SuperCar(Car):\n",
    "    def __init__(self, model_name, year, price):\n",
    "        super.__init__(model_name, year, price) # to inherit constructor\n",
    "        \n",
    "honda = SuperCar('Brio', 2017, 450000) # Object Decleration\n",
    "tata = Car('Indica', 2010, 230000)\n",
    "\n",
    "honda.cc = 1200\n",
    "print(honda.year)\n",
    "#print(help(honda))\n"
   ]
  },
  {
   "cell_type": "code",
   "execution_count": null,
   "metadata": {},
   "outputs": [],
   "source": []
  }
 ],
 "metadata": {
  "kernelspec": {
   "display_name": "Python 3",
   "language": "python",
   "name": "python3"
  },
  "language_info": {
   "codemirror_mode": {
    "name": "ipython",
    "version": 3
   },
   "file_extension": ".py",
   "mimetype": "text/x-python",
   "name": "python",
   "nbconvert_exporter": "python",
   "pygments_lexer": "ipython3",
   "version": "3.7.1"
  }
 },
 "nbformat": 4,
 "nbformat_minor": 2
}
