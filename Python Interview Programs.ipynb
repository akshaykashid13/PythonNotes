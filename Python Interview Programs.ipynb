{
 "cells": [
  {
   "cell_type": "code",
   "execution_count": 1,
   "metadata": {},
   "outputs": [
    {
     "name": "stdout",
     "output_type": "stream",
     "text": [
      "Python Interview Programs\n"
     ]
    }
   ],
   "source": [
    "print('Python Interview Programs')"
   ]
  },
  {
   "cell_type": "code",
   "execution_count": 2,
   "metadata": {},
   "outputs": [
    {
     "name": "stdout",
     "output_type": "stream",
     "text": [
      "Palindrome\n",
      "None\n",
      "Not Palindrome\n",
      "None\n"
     ]
    }
   ],
   "source": [
    "# Palindrome\n",
    "def pal(num):\n",
    "    x1 = num[::-1]\n",
    "    if x1 == num:\n",
    "        print('Palindrome')\n",
    "    else:\n",
    "        print('Not Palindrome')\n",
    "\n",
    "print(pal('151'))\n",
    "print(pal('125'))"
   ]
  },
  {
   "cell_type": "code",
   "execution_count": 5,
   "metadata": {},
   "outputs": [
    {
     "name": "stdout",
     "output_type": "stream",
     "text": [
      "Enter Number 153\n",
      "Armstrong\n"
     ]
    }
   ],
   "source": [
    "# Armstrong Number \n",
    "num  = int(input(\"Enter Number \"))\n",
    "s = 0\n",
    "temp = num\n",
    "\n",
    "while temp > 0:\n",
    "    c = temp % 10\n",
    "    s += c**3\n",
    "    temp //= 10\n",
    "if num == s:\n",
    "    print('Armstrong')\n",
    "else:\n",
    "    print('Not')"
   ]
  },
  {
   "cell_type": "code",
   "execution_count": 6,
   "metadata": {},
   "outputs": [
    {
     "name": "stdout",
     "output_type": "stream",
     "text": [
      "6\n"
     ]
    }
   ],
   "source": [
    "# Factorial\n",
    "def fact(num):\n",
    "    if num == 1:\n",
    "        return num\n",
    "    else:\n",
    "        return num * fact(num - 1)\n",
    "\n",
    "print(fact(3))"
   ]
  },
  {
   "cell_type": "code",
   "execution_count": 9,
   "metadata": {},
   "outputs": [
    {
     "name": "stdout",
     "output_type": "stream",
     "text": [
      "#  \n",
      "# #  \n",
      "# # #  \n",
      "# # # #  \n",
      "# # # # #  \n"
     ]
    }
   ],
   "source": [
    "# Pattern Program\n",
    "num = 5\n",
    "m = (2 * num) - 2\n",
    "\n",
    "for i in range (0, num):\n",
    "    for j in range (0, m):\n",
    "        print(end=\"\")\n",
    "    m = m - 1\n",
    "    for j in range(0, i + 1):\n",
    "        print(\"#\", end=\" \")\n",
    "\n",
    "    print(\" \")"
   ]
  },
  {
   "cell_type": "code",
   "execution_count": 10,
   "metadata": {},
   "outputs": [
    {
     "name": "stdout",
     "output_type": "stream",
     "text": [
      "        #  \n",
      "       # #  \n",
      "      # # #  \n",
      "     # # # #  \n",
      "    # # # # #  \n"
     ]
    }
   ],
   "source": [
    "# Pattern Program\n",
    "num = 5\n",
    "m = (2 * num) - 2\n",
    "\n",
    "for i in range (0, num):\n",
    "    for j in range (0, m):\n",
    "        print(end=\" \")\n",
    "    m = m - 1\n",
    "    for j in range(0, i + 1):\n",
    "        print(\"#\", end=\" \")\n",
    "\n",
    "    print(\" \")"
   ]
  },
  {
   "cell_type": "code",
   "execution_count": 16,
   "metadata": {},
   "outputs": [
    {
     "name": "stdout",
     "output_type": "stream",
     "text": [
      "Enter First Number 1\n",
      "Enter Second Number 5\n",
      "Enter the number of elements 10\n",
      "1 5\n",
      "6\n",
      "11\n",
      "17\n",
      "28\n",
      "45\n",
      "73\n",
      "118\n",
      "191\n"
     ]
    }
   ],
   "source": [
    "# Fibonacci\n",
    "a = int(input(\"Enter First Number \"))\n",
    "b= int(input(\"Enter Second Number \"))\n",
    "n= int(input(\"Enter the number of elements \"))\n",
    "print(a,b)\n",
    "while n - 2:\n",
    "    c = a + b   \n",
    "    a = b\n",
    "    b = c\n",
    "    print(c)\n",
    "    n = n - 1"
   ]
  },
  {
   "cell_type": "code",
   "execution_count": null,
   "metadata": {},
   "outputs": [],
   "source": []
  }
 ],
 "metadata": {
  "kernelspec": {
   "display_name": "Python 3",
   "language": "python",
   "name": "python3"
  },
  "language_info": {
   "codemirror_mode": {
    "name": "ipython",
    "version": 3
   },
   "file_extension": ".py",
   "mimetype": "text/x-python",
   "name": "python",
   "nbconvert_exporter": "python",
   "pygments_lexer": "ipython3",
   "version": "3.7.1"
  }
 },
 "nbformat": 4,
 "nbformat_minor": 2
}
