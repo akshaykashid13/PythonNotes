{
 "cells": [
  {
   "cell_type": "code",
   "execution_count": 2,
   "metadata": {},
   "outputs": [
    {
     "name": "stdout",
     "output_type": "stream",
     "text": [
      "Enter item to findAkshay\n",
      "Nop\n"
     ]
    }
   ],
   "source": [
    "# Linear Search Algorithm\n",
    "\n",
    "def linearSearch(myItem,myList):\n",
    "    found = False\n",
    "    position = 0\n",
    "    while position < len(myList) and not found:\n",
    "        if myList[position] == myItem:\n",
    "            found = True\n",
    "        position = position + 1\n",
    "    return found\n",
    "\n",
    "\n",
    "if __name__==\"__main__\":\n",
    "    shopping = [\"Apple\", \"Banana\", \"Mango\", \"Santra\", \"Coconut\"]\n",
    "    item = input(\"Enter item to find\")\n",
    "    isItFound = linearSearch(item, shopping)\n",
    "    \n",
    "    if isItFound:\n",
    "        print(\"Your item is in list\")\n",
    "    else: \n",
    "        print(\"Nop\")"
   ]
  },
  {
   "cell_type": "code",
   "execution_count": 5,
   "metadata": {},
   "outputs": [
    {
     "name": "stdout",
     "output_type": "stream",
     "text": [
      "Enter item to find8\n",
      "Your item is in list\n"
     ]
    }
   ],
   "source": [
    "# Binary Search Algorithm\n",
    "\n",
    "def binarySearch(myItem,myList):\n",
    "    found = False\n",
    "    bottom = 0\n",
    "    top = len(myList)-1\n",
    "    while bottom<=top and not found:\n",
    "        middle = (bottom+top)//2\n",
    "        if myList[middle] ==myItem:\n",
    "            found = True\n",
    "        elif myList[middle] < myItem:\n",
    "            bottom = middle + 1\n",
    "        else:\n",
    "            top = middle - 1\n",
    "    return found\n",
    "\n",
    "if __name__==\"__main__\":\n",
    "    numList = [1,2,3,4,5,6,7,8,9,11,55,66,77,82,98]\n",
    "    item = int(input(\"Enter item to find\"))\n",
    "    isItFound = binarySearch(item, numList)\n",
    "    \n",
    "    if isItFound:\n",
    "        print(\"Your item is in list\")\n",
    "    else: \n",
    "        print(\"Nop\")"
   ]
  },
  {
   "cell_type": "code",
   "execution_count": 6,
   "metadata": {},
   "outputs": [],
   "source": [
    "# Bubble Sort Algorithm\n",
    "\n",
    "def bubbleSort(myList):\n",
    "    moreSwaps = True\n",
    "    while moreSwaps:\n",
    "        moreSwaps = False\n",
    "        for element in range(len(myList)-1):\n",
    "            if myList[element]> myList[element+1]:\n",
    "                moreSwaps = True\n",
    "                temp = myList[element]\n",
    "                myList[element] = myList[element+1]\n",
    "                myList[element+1] = temp\n",
    "                \n",
    "    return myList\n",
    "\n",
    "def testBubbleSort():\n",
    "    myList = [5,6,7,8,1,2,3,4]\n",
    "    sortedListed = bubbleSort(myList)\n",
    "    print(sortedListed)\n",
    "    \n",
    "# Output\n",
    "#testBubbleSort()\n",
    "#[1, 2, 3, 4, 5, 6, 7, 8]\n"
   ]
  },
  {
   "cell_type": "code",
   "execution_count": null,
   "metadata": {},
   "outputs": [],
   "source": [
    "# Insertion Sort Algorithm\n",
    "\n",
    "# Psudo Code\n",
    "Procedure InsertionSort (List, First, Last)\n",
    "    For CurrentPointer <- First + 1 To Last\n",
    "        CurrentValue <- List[CurrentPointer]\n",
    "        Pointer <- CurrentPointer − 1\n",
    "        While List[Pointer] > CurrentValue AND Pointer > 0\n",
    "            List[Pointer+1] <- List[Pointer]\n",
    "            Pointer <- Pointer − 1\n",
    "        EndWhile\n",
    "        List[Pointer+1] <- CurrentValue\n",
    "    EndFor\n",
    "EndProcedure"
   ]
  },
  {
   "cell_type": "code",
   "execution_count": null,
   "metadata": {},
   "outputs": [],
   "source": [
    "# quick sort\n",
    "def partition(myList, start, end):\n",
    "    pivot = myList[start]\n",
    "    left = start+1\n",
    "    # Start outside the area to be partitioned\n",
    "    right = end\n",
    "    done = False\n",
    "    while not done:\n",
    "        while left <= right and myList[left] <= pivot:\n",
    "            left = left + 1\n",
    "        while myList[right] >= pivot and right >=left:\n",
    "            right = right -1\n",
    "        if right < left:\n",
    "            done= True\n",
    "        else:\n",
    "            # swap places\n",
    "            temp=myList[left]\n",
    "            myList[left]=myList[right]\n",
    "            myList[right]=temp\n",
    "    # swap start with myList[right]\n",
    "    temp=myList[start]\n",
    "    myList[start]=myList[right]\n",
    "    myList[right]=temp\n",
    "    return right\n",
    "\n",
    "\n",
    "def quicksort(myList, start, end):\n",
    "    if start < end:\n",
    "        # partition the list\n",
    "        split = partition(myList, start, end)\n",
    "        # sort both halves\n",
    "        quicksort(myList, start, split-1)\n",
    "        quicksort(myList, split+1, end)\n",
    "    return myList\n",
    "\n",
    "\n",
    "\n",
    "def main():\n",
    "    myList = [7,2,5,1,29,6,4,19,11]\n",
    "    sortedList = quicksort(myList,0,len(myList)-1)\n",
    "    print(sortedList)"
   ]
  },
  {
   "cell_type": "code",
   "execution_count": null,
   "metadata": {},
   "outputs": [],
   "source": [
    "# Stack Data Structure\n",
    "\n",
    "def useStack():\n",
    "    stack = []\n",
    "    choice = -1\n",
    "    while choice != 4:\n",
    "        print(\"1. Push on to stack\")\n",
    "        print(\"2. Pop from stack\")\n",
    "        print(\"3. Print stack\")\n",
    "        print(\"4. Exit\")\n",
    "\n",
    "        choice = int(input(\"Enter Your Choice\"))\n",
    "\n",
    "        if choice == 1:\n",
    "            nextItem = input(\"What you want to add to stack ? \")\n",
    "            stack.append(nextItem)\n",
    "        if choice == 2:\n",
    "            #Take from the top\n",
    "            print(\"The last one in was\", stack[-1])\n",
    "            print(\"That is the one i am going to delete\")\n",
    "            del stack[-1]\n",
    "\n",
    "        if choice == 3:\n",
    "            for counter in range(len(stack)-1,-1,-1):\n",
    "                print(stack[counter])\n"
   ]
  },
  {
   "cell_type": "code",
   "execution_count": null,
   "metadata": {},
   "outputs": [],
   "source": [
    "# Queue Data Structure\n",
    "\n",
    "class Queue:\n",
    "    def __init__(self):\n",
    "        self.items=[]\n",
    "    def add(self, item):\n",
    "        self.items.append(item)\n",
    "    def delete(self):\n",
    "        itemToDelete = self.items[0]\n",
    "        del self.items[0]\n",
    "        return itemToDelete\n",
    "    def size(self):\n",
    "        return len(self.items)\n",
    "    def report(self):\n",
    "        return self.items\n",
    "def testQueue():\n",
    "    myQueue=Queue()\n",
    "    myQueue.add(\"Bob\")\n",
    "    myQueue.add(\"Baba\")\n",
    "    myQueue.add(\"Bro\")\n",
    "    myQueue.add(\"Bhau\")\n",
    "    print(myQueue.size())\n",
    "    print(myQueue.report())\n",
    "    print(myQueue.delete())\n",
    "    print(myQueue.report())"
   ]
  },
  {
   "cell_type": "code",
   "execution_count": null,
   "metadata": {},
   "outputs": [],
   "source": [
    "# Linked List Data Structure\n",
    "\n",
    "class Node:\n",
    "    def __init__(self, contents=None, next=None):\n",
    "        self.contents = contents\n",
    "        self.next  = next\n",
    "\n",
    "    def getContents(self):\n",
    "        return self.contents\n",
    "\n",
    "    def __str__(self):\n",
    "        return str(self.contents)\n",
    "\n",
    "def print_list(node):\n",
    "    while node:\n",
    "        print(node.getContents())\n",
    "        node = node.next\n",
    "    print()\n",
    "\n",
    "def testList():\n",
    "    node1 = Node(\"car\")\n",
    "    node2 = Node(\"bus\")\n",
    "    node3 = Node(\"lorry\")\n",
    "    node1.next = node2\n",
    "    node2.next = node3\n",
    "    print_list(node1)\n"
   ]
  },
  {
   "cell_type": "code",
   "execution_count": null,
   "metadata": {},
   "outputs": [],
   "source": [
    "# Binary Tree Data Structure\n",
    "\n",
    "class BinaryTree():\n",
    "\n",
    "    def __init__(self,rootid):\n",
    "      self.left = None\n",
    "      self.right = None\n",
    "      self.rootid = rootid\n",
    "\n",
    "    def getLeftChild(self):\n",
    "        return self.left\n",
    "    def getRightChild(self):\n",
    "        return self.right\n",
    "    def setNodeValue(self,value):\n",
    "        self.rootid = value\n",
    "    def getNodeValue(self):\n",
    "        return self.rootid\n"
   ]
  },
  {
   "cell_type": "code",
   "execution_count": 2,
   "metadata": {},
   "outputs": [
    {
     "name": "stdout",
     "output_type": "stream",
     "text": [
      "Enter a number: 6\n",
      "The factorial of 6 is 720\n"
     ]
    }
   ],
   "source": [
    "# Python program to find the factorial of a number provided by the user.\n",
    "\n",
    "num = int(input(\"Enter a number: \"))\n",
    "\n",
    "factorial = 1\n",
    "\n",
    "# check if the number is negative, positive or zero\n",
    "if num < 0:\n",
    "   print(\"Sorry, factorial does not exist for negative numbers\")\n",
    "elif num == 0:\n",
    "   print(\"The factorial of 0 is 1\")\n",
    "else:\n",
    "   for i in range(1,num + 1):\n",
    "       factorial = factorial*i\n",
    "   print(\"The factorial of\",num,\"is\",factorial)"
   ]
  },
  {
   "cell_type": "code",
   "execution_count": 6,
   "metadata": {},
   "outputs": [
    {
     "name": "stdout",
     "output_type": "stream",
     "text": [
      "Enter Numer10\n",
      "10\n",
      "20\n",
      "30\n",
      "40\n",
      "50\n",
      "60\n",
      "70\n",
      "80\n",
      "90\n",
      "100\n"
     ]
    }
   ],
   "source": [
    "num = int(input(\"Enter Numer\"))\n",
    "for i in range(1, 11):\n",
    "    print(num * i)\n",
    "\n"
   ]
  },
  {
   "cell_type": "code",
   "execution_count": 10,
   "metadata": {},
   "outputs": [
    {
     "data": {
      "text/plain": [
       "65"
      ]
     },
     "execution_count": 10,
     "metadata": {},
     "output_type": "execute_result"
    }
   ],
   "source": [
    "ord('A')"
   ]
  },
  {
   "cell_type": "code",
   "execution_count": 12,
   "metadata": {},
   "outputs": [
    {
     "name": "stdout",
     "output_type": "stream",
     "text": [
      "It is not palindrome\n"
     ]
    }
   ],
   "source": [
    "# Program to check if a string\n",
    "#  is palindrome or not\n",
    "my_str = 'madama'\n",
    "\n",
    "# make it suitable for caseless comparison\n",
    "my_str = my_str.casefold()\n",
    "\n",
    "# reverse the string\n",
    "rev_str = reversed(my_str)\n",
    "\n",
    "# check if the string is equal to its reverse\n",
    "if list(my_str) == list(rev_str):\n",
    "   print(\"It is palindrome\")\n",
    "else:\n",
    "   print(\"It is not palindrome\")"
   ]
  },
  {
   "cell_type": "code",
   "execution_count": null,
   "metadata": {},
   "outputs": [],
   "source": []
  }
 ],
 "metadata": {
  "kernelspec": {
   "display_name": "Python 3",
   "language": "python",
   "name": "python3"
  },
  "language_info": {
   "codemirror_mode": {
    "name": "ipython",
    "version": 3
   },
   "file_extension": ".py",
   "mimetype": "text/x-python",
   "name": "python",
   "nbconvert_exporter": "python",
   "pygments_lexer": "ipython3",
   "version": "3.7.1"
  }
 },
 "nbformat": 4,
 "nbformat_minor": 2
}
